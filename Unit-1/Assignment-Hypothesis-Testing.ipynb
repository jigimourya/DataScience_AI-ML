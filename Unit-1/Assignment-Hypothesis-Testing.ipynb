{
  "nbformat": 4,
  "nbformat_minor": 0,
  "metadata": {
    "colab": {
      "provenance": []
    },
    "kernelspec": {
      "name": "python3",
      "display_name": "Python 3"
    },
    "language_info": {
      "name": "python"
    }
  },
  "cells": [
    {
      "cell_type": "code",
      "execution_count": null,
      "metadata": {
        "colab": {
          "base_uri": "https://localhost:8080/"
        },
        "id": "xeF_mmNMKYVW",
        "outputId": "06aef90b-6040-4e20-f2ba-283b9a88eeee"
      },
      "outputs": [
        {
          "output_type": "stream",
          "name": "stdout",
          "text": [
            "0.017507490509831244\n"
          ]
        }
      ],
      "source": [
        "from scipy.stats import norm\n",
        "mu=60\n",
        "sigma=6\n",
        "n=40\n",
        "x_bar=58\n",
        "se=sigma/(n**0.5)\n",
        "z=(x_bar-mu)/se\n",
        "prob=norm.cdf(z)\n",
        "print(prob)\n"
      ]
    },
    {
      "cell_type": "code",
      "source": [],
      "metadata": {
        "id": "flOcqMxLQmAs"
      },
      "execution_count": null,
      "outputs": []
    },
    {
      "cell_type": "code",
      "source": [
        "from scipy.stats import norm\n",
        "x_bar=310\n",
        "sigma=89\n",
        "n=40\n",
        "confidence_level=0.95\n",
        "se=sigma/(n**0.5)\n",
        "z=norm.ppf(1-(1-confidence_level)/2)\n",
        "lower_bound=x_bar-z*se\n",
        "upper_bound=x_bar+z*se\n",
        "print(lower_bound)\n",
        "print(upper_bound)"
      ],
      "metadata": {
        "colab": {
          "base_uri": "https://localhost:8080/"
        },
        "id": "RAoLhCtwOAiS",
        "outputId": "fb57a38e-9f99-4568-9085-f970e9256631"
      },
      "execution_count": null,
      "outputs": [
        {
          "output_type": "stream",
          "name": "stdout",
          "text": [
            "282.419121062447\n",
            "337.580878937553\n"
          ]
        }
      ]
    },
    {
      "cell_type": "markdown",
      "source": [
        "#Hypothesis Testing"
      ],
      "metadata": {
        "id": "cn53wl5UzwE8"
      }
    },
    {
      "cell_type": "code",
      "source": [
        "from scipy.stats import t\n",
        "pop_mean=4.5\n",
        "samp_mean=4.8\n",
        "sample_std=0.4\n",
        "n=30\n",
        "alp=0.05\n",
        "se=sample_std/(n**0.5)\n",
        "t_stat=(samp_mean-pop_mean)/se\n",
        "p_val=2*(1-t.cdf(abs(t_stat),df=n-1))\n",
        "if p_val<alp:\n",
        "    print(\"Reject the null hypothesis\")\n",
        "else:\n",
        "    print(\"Fail to reject the null hypothesis\")\n",
        "print(t_stat)"
      ],
      "metadata": {
        "colab": {
          "base_uri": "https://localhost:8080/"
        },
        "id": "_tEoHhkJz0Yh",
        "outputId": "15a7d720-c0dd-4beb-e585-200581da57e4"
      },
      "execution_count": null,
      "outputs": [
        {
          "output_type": "stream",
          "name": "stdout",
          "text": [
            "Reject the null hypothesis\n",
            "4.107919181288744\n"
          ]
        }
      ]
    },
    {
      "cell_type": "markdown",
      "source": [
        "# **p_val calc**\n"
      ],
      "metadata": {
        "id": "EbZ9s5Ou2gU9"
      }
    },
    {
      "cell_type": "code",
      "source": [
        "from scipy.stats import norm\n",
        "z_stat=2.00\n",
        "p_val=2*(1-norm.cdf(abs(z_stat)))\n",
        "print(p_val)"
      ],
      "metadata": {
        "colab": {
          "base_uri": "https://localhost:8080/"
        },
        "id": "ko31nqs52uCx",
        "outputId": "ae886c7d-badf-414b-8906-b3e9ff531c5e"
      },
      "execution_count": null,
      "outputs": [
        {
          "output_type": "stream",
          "name": "stdout",
          "text": [
            "0.04550026389635842\n"
          ]
        }
      ]
    },
    {
      "cell_type": "code",
      "source": [
        "from scipy.stats import norm\n",
        "samp_mean=30000\n",
        "pop_mean=29000\n",
        "sig=8000\n",
        "n=400\n",
        "alp=0.05\n",
        "se=sig/(n**0.5)\n",
        "z_score=(samp_mean-pop_mean)/se\n",
        "p_val=1-norm.cdf(z_score)\n",
        "if p_val<alp:\n",
        "    print(\"Reject the null hypothesis\")\n",
        "else:\n",
        "    print(\"Fail to reject the null hypothesis\")\n",
        "print(z_score)\n",
        "print(p_val)"
      ],
      "metadata": {
        "colab": {
          "base_uri": "https://localhost:8080/"
        },
        "id": "sqig4J7O2_Tg",
        "outputId": "c91c8940-357e-4313-d43c-b02cc5f2dcd6"
      },
      "execution_count": null,
      "outputs": [
        {
          "output_type": "stream",
          "name": "stdout",
          "text": [
            "Reject the null hypothesis\n",
            "2.5\n",
            "0.006209665325776159\n"
          ]
        }
      ]
    }
  ]
}