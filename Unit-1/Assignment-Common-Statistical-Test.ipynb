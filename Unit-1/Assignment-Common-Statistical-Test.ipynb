{
  "nbformat": 4,
  "nbformat_minor": 0,
  "metadata": {
    "colab": {
      "provenance": []
    },
    "kernelspec": {
      "name": "python3",
      "display_name": "Python 3"
    },
    "language_info": {
      "name": "python"
    }
  },
  "cells": [
    {
      "cell_type": "markdown",
      "source": [
        "##1. One-sample t-test\n",
        "\n",
        "The mass of a sample of N 20 acorns from a forest subjected to acid rain from a coal power plant are m [8.8, 6.6, 9.5, 11.2, 10.2, 7.4, 8.0, 9.6,\n",
        "9.9, 9.0, 7.6, 7.4, 10.4, 11.1, 8.5, 10.0, 11.6, 10.7, 10.3, and 7.0 g) Does this sample provide enough evidence (alpha = 0.05) to say that the\n",
        "average mass of all acorns is different from 10 g?\n"
      ],
      "metadata": {
        "id": "4K96lzUTqn6F"
      }
    },
    {
      "cell_type": "code",
      "execution_count": 1,
      "metadata": {
        "id": "VlcvaDmlqkYB"
      },
      "outputs": [],
      "source": [
        "#Importing the necessary libraries\n",
        "import numpy as np\n",
        "import pandas as pd\n",
        "import matplotlib.pyplot as plt\n",
        "import scipy.stats as stats"
      ]
    },
    {
      "cell_type": "code",
      "source": [
        "m = np.array([8.8, 6.6, 9.5, 11.2, 10.2, 7.4, 8.0, 9.6, 9.9, 9.0, 7.6, 7.4, 10.4, 11.1, 8.5, 10.0, 11.6, 10.7, 10.3, 7.0])\n",
        "avg = 10\n",
        "t_stat_onesample, p_value_onesample = stats.ttest_1samp(m, avg)\n",
        "t_stat_onesample, p_value_onesample"
      ],
      "metadata": {
        "colab": {
          "base_uri": "https://localhost:8080/"
        },
        "id": "_o8QKSVzvc0T",
        "outputId": "d52be9ab-2547-4df6-820b-3974747e6d13"
      },
      "execution_count": 2,
      "outputs": [
        {
          "output_type": "execute_result",
          "data": {
            "text/plain": [
              "(-2.2491611580763973, 0.03655562279112415)"
            ]
          },
          "metadata": {},
          "execution_count": 2
        }
      ]
    },
    {
      "cell_type": "markdown",
      "source": [
        "The p-value (0.0366) is less than the significance level of 0.05, we reject the null hypothesis. There is enough evidence to say that the average\n",
        "mass of all acorns is different from 10 g.\n"
      ],
      "metadata": {
        "id": "X08y2xf-vjqd"
      }
    },
    {
      "cell_type": "markdown",
      "source": [
        "##2. Independent (unpaired) two-sample t-test\n",
        "\n",
        "The mass of N₁ = 20 acorns from oak trees up wind from a coal power plant and N₂ = 30 acorns from oak trees down wind from the same coal\n",
        "power plant are measured. Is the mass of acorns from trees down wind different from the ones from up wind at a significance level of 0.05?\n",
        "The sample sizes are not equal but we will assume that the population variance for sample 1 and sample 2 are equal. sample up wind:\n",
        "\n",
        "x1 = [10.8, 10.0, 8.2, 9.9, 11.6, 10.1, 11.3, 10.3, 10.7, 9.7, 7.8, 9.6, 9.7, 11.6, 10.3, 9.8, 12.3, 11.0, 10.4, 10.4]\n",
        "\n",
        "sample down wind:\n",
        "\n",
        "x2= [7.8, 7.5, 9.5, 11.7, 8.1, 8.8, 8.8, 7.7, 9.7, 7.0, 9.0, 9.7, 11.3, 8.7, 8.8, 10.9, 10.3, 9.6, 8.4, 6.6, 7.2, 7.6, 11.5, 6.6, 8.6, 10.5, 8.4, 8.5, 10.2, 9.2]\n"
      ],
      "metadata": {
        "id": "iPz0LT7pvqZ9"
      }
    },
    {
      "cell_type": "code",
      "source": [
        "x1 = np.array([10.8, 10.0, 8.2, 9.9, 11.6, 10.1, 11.3, 10.3, 10.7, 9.7,7.8, 9.6, 9.7, 11.6, 10.3, 9.8, 12.3, 11.0, 10.4, 10.4])\n",
        "x2 = np.array([7.8, 7.5, 9.5, 11.7, 8.1, 8.8, 8.8, 7.7, 9.7, 7.0, 9.0, 9.7, 11.3, 8.7, 8.8, 10.9, 10.3, 9.6, 8.4, 6.6, 7.2, 7.6, 11.5, 6.6, 8.6, 10.5, 8.4, 8.5, 10.2, 9.2])\n",
        "t_stat_twosample, p_value_twosample = stats.ttest_ind(x1, x2, equal_var=True)\n",
        "t_stat_twosample, p_value_twosample"
      ],
      "metadata": {
        "colab": {
          "base_uri": "https://localhost:8080/"
        },
        "id": "w9Rh7NHdvmo8",
        "outputId": "5038fd5c-7780-4050-ecf3-3bcb7aa7d11e"
      },
      "execution_count": 3,
      "outputs": [
        {
          "output_type": "execute_result",
          "data": {
            "text/plain": [
              "(3.5981947686898033, 0.0007560337478801464)"
            ]
          },
          "metadata": {},
          "execution_count": 3
        }
      ]
    },
    {
      "cell_type": "markdown",
      "source": [
        "As the p-value (0.00076) is less than 0.05, we reject the null hypothesis. This means there is significant evidence that the mass of acorns from\n",
        "trees downwind is different from those upwind.\n"
      ],
      "metadata": {
        "id": "nItG9mq0wEJ6"
      }
    },
    {
      "cell_type": "markdown",
      "source": [
        "##3. ANOVA test\n",
        "\n",
        "The marks obtained by 5 randomly picked students in Mathematics exam from three sections A, B, and C are as follows: Marks of 5 randomly\n",
        "picked students from Section A A[51, 45, 33, 45, 67] Marks of 5 randomly picked students from Section B B[23, 43, 23, 43, 45] Marks of 5\n",
        "randomly picked students from Section C C[56, 76, 74, 87, 56] Does the sample provide enough evidence to say that the mean marks of\n",
        "students in the three sections are different?"
      ],
      "metadata": {
        "id": "HePgnzfnwGlf"
      }
    },
    {
      "cell_type": "code",
      "source": [
        "import scipy.stats as stats\n",
        "A = np.array([51, 45, 33, 45, 67])\n",
        "B = np.array([23, 43, 23, 43, 45])\n",
        "C = np.array([56, 76, 74, 87, 56])\n",
        "f_stat, p_value_anova = stats.f_oneway(A, B, C)\n",
        "f_stat, p_value_anova"
      ],
      "metadata": {
        "colab": {
          "base_uri": "https://localhost:8080/"
        },
        "id": "7Prf3VfZwArV",
        "outputId": "0523d740-f08e-4593-cac4-0350eeb19f0d"
      },
      "execution_count": 4,
      "outputs": [
        {
          "output_type": "execute_result",
          "data": {
            "text/plain": [
              "(9.747205503009463, 0.0030597541434430556)"
            ]
          },
          "metadata": {},
          "execution_count": 4
        }
      ]
    },
    {
      "cell_type": "markdown",
      "source": [
        "The p-value (0.0030) is less than the significance level of 0.05, we reject the null hypothesis. This means there is sufficient evidence to conclude\n",
        "that the mean marks of students in the three sections are significantly different."
      ],
      "metadata": {
        "id": "6tX9XK5uwNrz"
      }
    },
    {
      "cell_type": "code",
      "source": [],
      "metadata": {
        "id": "NGHKqTwIwLES"
      },
      "execution_count": null,
      "outputs": []
    }
  ]
}